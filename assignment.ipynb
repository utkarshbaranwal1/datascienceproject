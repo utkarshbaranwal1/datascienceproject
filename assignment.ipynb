{
 "cells": [
  {
   "cell_type": "code",
   "execution_count": 2,
   "metadata": {},
   "outputs": [],
   "source": [
    "#the project is completed on IBM Watson cloud, and data was exported to sql database on cloud,\n",
    "#However due to extremely large dataset, I have only chosen 3 data files for training as the amount of data was extremly large"
   ]
  },
  {
   "cell_type": "code",
   "execution_count": 21,
   "metadata": {},
   "outputs": [],
   "source": [
    "import ibm_db\n",
    "import pandas as pd\n",
    "import ibm_db_dbi"
   ]
  },
  {
   "cell_type": "code",
   "execution_count": 3,
   "metadata": {},
   "outputs": [],
   "source": [
    "dsn_driver = \"{IBM DB2 ODBC DRIVER}\"\n",
    "dsn_database = \"BLUDB\"            # e.g. \"BLUDB\"\n",
    "dsn_hostname = \"xxxxxxxxxxxxxxxxxxxxxxxxxxx\"            # e.g.: \"dashdb-txn-sbox-yp-dal09-04.services.dal.bluemix.net\"\n",
    "dsn_port = \"50000\"                    # e.g. \"50000\" \n",
    "dsn_protocol = \"TCPIP\"            # i.e. \"TCPIP\"\n",
    "dsn_uid = \"xxxxx\"                 # e.g. \"abc12345\"\n",
    "dsn_pwd = \"xxxxxxxx\" \n"
   ]
  },
  {
   "cell_type": "code",
   "execution_count": 4,
   "metadata": {},
   "outputs": [
    {
     "name": "stdout",
     "output_type": "stream",
     "text": [
      "Connected to database:  BLUDB as user:  rbd60127 on host:  dashdb-txn-sbox-yp-lon02-01.services.eu-gb.bluemix.net\n"
     ]
    }
   ],
   "source": [
    "dsn = (\n",
    "    \"DRIVER={0};\"\n",
    "    \"DATABASE={1};\"\n",
    "    \"HOSTNAME={2};\"\n",
    "    \"PORT={3};\"\n",
    "    \"PROTOCOL={4};\"\n",
    "    \"UID={5};\"\n",
    "    \"PWD={6};\").format(dsn_driver, dsn_database, dsn_hostname, dsn_port, dsn_protocol, dsn_uid, dsn_pwd)\n",
    "\n",
    "conn = ibm_db.connect(dsn, \"\", \"\")\n",
    "print (\"Connected to database: \", dsn_database, \"as user: \", dsn_uid, \"on host: \", dsn_hostname)\n"
   ]
  },
  {
   "cell_type": "code",
   "execution_count": 6,
   "metadata": {},
   "outputs": [],
   "source": [
    "selectQuery = \"select COLUMN_1, COLUMN_3, COLUMN_4, COLUMN_5 from ASSIGNDATA\"\n",
    "pconn = ibm_db_dbi.Connection(conn)\n",
    "pdf = pd.read_sql(selectQuery, pconn)\n"
   ]
  },
  {
   "cell_type": "code",
   "execution_count": 7,
   "metadata": {},
   "outputs": [
    {
     "data": {
      "text/plain": [
       "(193176, 4)"
      ]
     },
     "execution_count": 7,
     "metadata": {},
     "output_type": "execute_result"
    }
   ],
   "source": [
    "pdf.shape"
   ]
  },
  {
   "cell_type": "code",
   "execution_count": 8,
   "metadata": {},
   "outputs": [],
   "source": [
    "pdf[['COLUMN_3', 'COLUMN_4', 'COLUMN_5']] = pdf[['COLUMN_3', 'COLUMN_4', 'COLUMN_5']].apply(pd.to_numeric)"
   ]
  },
  {
   "cell_type": "code",
   "execution_count": 9,
   "metadata": {},
   "outputs": [
    {
     "data": {
      "text/plain": [
       "COLUMN_1     object\n",
       "COLUMN_3    float64\n",
       "COLUMN_4    float64\n",
       "COLUMN_5    float64\n",
       "dtype: object"
      ]
     },
     "execution_count": 9,
     "metadata": {},
     "output_type": "execute_result"
    }
   ],
   "source": [
    "\n",
    "pdf.dtypes"
   ]
  },
  {
   "cell_type": "code",
   "execution_count": 10,
   "metadata": {},
   "outputs": [],
   "source": [
    "output = pdf[\"COLUMN_1\"].astype(\"|S\")\n",
    "output.astype(str)\n",
    "del pdf[\"COLUMN_1\"]"
   ]
  },
  {
   "cell_type": "code",
   "execution_count": 11,
   "metadata": {},
   "outputs": [],
   "source": [
    "pdf[\"output\"] = output"
   ]
  },
  {
   "cell_type": "code",
   "execution_count": 12,
   "metadata": {},
   "outputs": [
    {
     "data": {
      "text/plain": [
       "COLUMN_3    float64\n",
       "COLUMN_4    float64\n",
       "COLUMN_5    float64\n",
       "output          |S1\n",
       "dtype: object"
      ]
     },
     "execution_count": 12,
     "metadata": {},
     "output_type": "execute_result"
    }
   ],
   "source": [
    "pdf.dtypes"
   ]
  },
  {
   "cell_type": "code",
   "execution_count": 14,
   "metadata": {},
   "outputs": [
    {
     "data": {
      "text/plain": [
       "array([[0.71409338, 0.37529828, 0.0472978 ],\n",
       "       [0.75759526, 0.31082772, 0.04682746],\n",
       "       [0.96899235, 0.45342792, 0.14230604],\n",
       "       [1.20627475, 0.51188854, 0.21379741],\n",
       "       [1.62727136, 0.41190448, 0.2490727 ]])"
      ]
     },
     "execution_count": 14,
     "metadata": {},
     "output_type": "execute_result"
    }
   ],
   "source": [
    "from sklearn import preprocessing\n",
    "y = pdf[\"output\"]\n",
    "X = pdf[['COLUMN_3', 'COLUMN_4', 'COLUMN_5']]\n",
    "X= preprocessing.StandardScaler().fit(X).transform(X)\n",
    "y_train = pd.get_dummies(y)\n",
    "X[:5]"
   ]
  },
  {
   "cell_type": "code",
   "execution_count": 15,
   "metadata": {},
   "outputs": [
    {
     "data": {
      "text/html": [
       "<div>\n",
       "<style scoped>\n",
       "    .dataframe tbody tr th:only-of-type {\n",
       "        vertical-align: middle;\n",
       "    }\n",
       "\n",
       "    .dataframe tbody tr th {\n",
       "        vertical-align: top;\n",
       "    }\n",
       "\n",
       "    .dataframe thead th {\n",
       "        text-align: right;\n",
       "    }\n",
       "</style>\n",
       "<table border=\"1\" class=\"dataframe\">\n",
       "  <thead>\n",
       "    <tr style=\"text-align: right;\">\n",
       "      <th></th>\n",
       "      <th>COLUMN_3</th>\n",
       "      <th>COLUMN_4</th>\n",
       "      <th>COLUMN_5</th>\n",
       "    </tr>\n",
       "  </thead>\n",
       "  <tbody>\n",
       "    <tr>\n",
       "      <th>count</th>\n",
       "      <td>193176.000000</td>\n",
       "      <td>193176.000000</td>\n",
       "      <td>193176.000000</td>\n",
       "    </tr>\n",
       "    <tr>\n",
       "      <th>mean</th>\n",
       "      <td>1.068569</td>\n",
       "      <td>-5.238736</td>\n",
       "      <td>2.279133</td>\n",
       "    </tr>\n",
       "    <tr>\n",
       "      <th>std</th>\n",
       "      <td>6.659477</td>\n",
       "      <td>4.382100</td>\n",
       "      <td>5.090401</td>\n",
       "    </tr>\n",
       "    <tr>\n",
       "      <th>min</th>\n",
       "      <td>-19.788227</td>\n",
       "      <td>-19.656546</td>\n",
       "      <td>-19.680937</td>\n",
       "    </tr>\n",
       "    <tr>\n",
       "      <th>25%</th>\n",
       "      <td>-3.246575</td>\n",
       "      <td>-7.767239</td>\n",
       "      <td>-0.860716</td>\n",
       "    </tr>\n",
       "    <tr>\n",
       "      <th>50%</th>\n",
       "      <td>-0.490512</td>\n",
       "      <td>-5.459229</td>\n",
       "      <td>2.600552</td>\n",
       "    </tr>\n",
       "    <tr>\n",
       "      <th>75%</th>\n",
       "      <td>7.337181</td>\n",
       "      <td>-2.887557</td>\n",
       "      <td>6.249465</td>\n",
       "    </tr>\n",
       "    <tr>\n",
       "      <th>max</th>\n",
       "      <td>19.660885</td>\n",
       "      <td>19.858856</td>\n",
       "      <td>19.650410</td>\n",
       "    </tr>\n",
       "  </tbody>\n",
       "</table>\n",
       "</div>"
      ],
      "text/plain": [
       "            COLUMN_3       COLUMN_4       COLUMN_5\n",
       "count  193176.000000  193176.000000  193176.000000\n",
       "mean        1.068569      -5.238736       2.279133\n",
       "std         6.659477       4.382100       5.090401\n",
       "min       -19.788227     -19.656546     -19.680937\n",
       "25%        -3.246575      -7.767239      -0.860716\n",
       "50%        -0.490512      -5.459229       2.600552\n",
       "75%         7.337181      -2.887557       6.249465\n",
       "max        19.660885      19.858856      19.650410"
      ]
     },
     "execution_count": 15,
     "metadata": {},
     "output_type": "execute_result"
    }
   ],
   "source": [
    "pdf.describe()"
   ]
  },
  {
   "cell_type": "code",
   "execution_count": 16,
   "metadata": {},
   "outputs": [],
   "source": [
    "from sklearn.metrics import confusion_matrix \n",
    "from sklearn.metrics import accuracy_score \n",
    "import numpy as np"
   ]
  },
  {
   "cell_type": "code",
   "execution_count": 17,
   "metadata": {},
   "outputs": [],
   "source": [
    "from sklearn.model_selection import train_test_split\n",
    "X_train,X_test,y_train,y_test = train_test_split(X,y,test_size = 0.1)"
   ]
  },
  {
   "cell_type": "code",
   "execution_count": 20,
   "metadata": {},
   "outputs": [
    {
     "name": "stdout",
     "output_type": "stream",
     "text": [
      "Best K = 50, Max Accuracy = 0.6302929909928564\n"
     ]
    }
   ],
   "source": [
    "#from sklearn.ensemble import RandomForestClassifier\n",
    "from sklearn.neighbors import KNeighborsClassifier\n",
    "from sklearn import metrics\n",
    "y = np.array(y_train)\n",
    "#clf = RandomForestClassifier(max_depth=75, random_state=0, min_samples_split=7)\n",
    "kvalues = [2, 4, 7, 10, 20, 50, 100]\n",
    "maxacc=0\n",
    "bestK = 1\n",
    "for i in kvalues:\n",
    "    neigh = KNeighborsClassifier(n_neighbors = i).fit(X_train,y_train)\n",
    "    yhat=neigh.predict(X_test)\n",
    "    acc = metrics.accuracy_score(y_test, yhat)\n",
    "    if acc>maxacc:\n",
    "        maxacc = acc\n",
    "        bestK = i\n",
    "print(\"Best K = {0}, Max Accuracy = {1}\".format(bestK, maxacc))"
   ]
  },
  {
   "cell_type": "code",
   "execution_count": 34,
   "metadata": {},
   "outputs": [
    {
     "name": "stdout",
     "output_type": "stream",
     "text": [
      "0.3299226066746949\n"
     ]
    }
   ],
   "source": [
    "y_pred = clf.predict(X_test)\n",
    "print(accuracy_score(y_pred, y_test))"
   ]
  },
  {
   "cell_type": "code",
   "execution_count": null,
   "metadata": {},
   "outputs": [],
   "source": []
  }
 ],
 "metadata": {
  "kernelspec": {
   "display_name": "Python 3.6",
   "language": "python",
   "name": "python3"
  },
  "language_info": {
   "codemirror_mode": {
    "name": "ipython",
    "version": 3
   },
   "file_extension": ".py",
   "mimetype": "text/x-python",
   "name": "python",
   "nbconvert_exporter": "python",
   "pygments_lexer": "ipython3",
   "version": "3.6.9"
  }
 },
 "nbformat": 4,
 "nbformat_minor": 1
}
